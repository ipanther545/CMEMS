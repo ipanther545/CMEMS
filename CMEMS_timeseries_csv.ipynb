{
 "cells": [
  {
   "cell_type": "markdown",
   "metadata": {
    "id": "ohKAsTz_VE6K"
   },
   "source": [
    "# Timeseries: CMEMS OSTIA Daily SST Data in CSV"
   ]
  },
  {
   "cell_type": "raw",
   "metadata": {},
   "source": [
    "Authors: L. Biermann (UoP)\n",
    "Credits: This code was originally developed for the OS104 module.\n",
    "License: This code is offered as free-to-use in the public domain, with no warranty.\n",
    "Date_V2: 15/08/2024"
   ]
  },
  {
   "cell_type": "markdown",
   "metadata": {},
   "source": [
    "<div class=\"alert alert-info\" role=\"alert\">\n",
    "\n",
    "We will be accessing 18 years of daily sea surface temperature measurements from the Copernicus Marine Service (CMEMS):\n",
    "https://marine.copernicus.eu\n",
    "\n",
    "</div>"
   ]
  },
  {
   "cell_type": "markdown",
   "metadata": {
    "id": "vFZmow-8VE6N"
   },
   "source": [
    "#### Importing the python libraries you'll need: basic setup"
   ]
  },
  {
   "cell_type": "code",
   "execution_count": null,
   "metadata": {},
   "outputs": [],
   "source": [
    "# Data Handling and Manipulation\n",
    "import os\n",
    "import numpy as np\n",
    "import pandas as pd\n",
    "\n",
    "# Data Visualisation and Plotting\n",
    "import matplotlib.pyplot as plt\n",
    "import matplotlib.dates as dates\n",
    "from matplotlib.dates import DateFormatter, YearLocator\n",
    "import seaborn as sns\n",
    "\n",
    "# Apply Statistical Testing\n",
    "from scipy.stats import linregress\n",
    "import pymannkendall as mk\n",
    "\n",
    "# Supress warnings (not errors)\n",
    "import warnings\n",
    "warnings.filterwarnings('ignore')"
   ]
  },
  {
   "cell_type": "markdown",
   "metadata": {},
   "source": [
    "#### It looks like we don't have all the libraries we want by default, so let's install what we need:\n",
    "`pip install pymannkendall`"
   ]
  },
  {
   "cell_type": "markdown",
   "metadata": {},
   "source": [
    "<div class=\"alert alert-info\" role=\"alert\">\n",
    "\n",
    "You just used coordinated execution of a task between the Windows OS and your python environment using BASH code! Nice work!\n",
    "\n",
    "</div>\n"
   ]
  },
  {
   "cell_type": "markdown",
   "metadata": {},
   "source": [
    "### \n",
    "### Section1: Reading in the Sea Surface Temperature data"
   ]
  },
  {
   "cell_type": "code",
   "execution_count": null,
   "metadata": {},
   "outputs": [],
   "source": [
    "pwd # This will output your current path, which you will need to copy and paste into the next cell"
   ]
  },
  {
   "cell_type": "markdown",
   "metadata": {},
   "source": [
    "#### **NB** To the `cell below`, you need to add `your path` from the `cell above` (pwd) and `your .nc filename`"
   ]
  },
  {
   "cell_type": "code",
   "execution_count": null,
   "metadata": {},
   "outputs": [],
   "source": [
    "PATHWAY = os.path.join('YOUR PATH\\\\YOUR PATH') #Replace with your pathway from pwd\n",
    "IN_FILE = \"YOUR DATA FILE.txt\"                 #Replace with your filename from ls"
   ]
  },
  {
   "cell_type": "code",
   "execution_count": null,
   "metadata": {
    "id": "VpnxZEARVE6P",
    "outputId": "c7dc19a0-605b-4675-c309-a98d1a1abf4d"
   },
   "outputs": [],
   "source": [
    "dataframe = pd.read_csv(os.path.join(PATHWAY, IN_FILE), comment='#')    #The hashtag prevents commented lines from being read as data\n",
    "# Display using print\n",
    "print(dataframe.head(5))"
   ]
  },
  {
   "cell_type": "markdown",
   "metadata": {},
   "source": [
    "### \n",
    "### Section2: Key Steps for Data 'Readiness' (i.e.: before analysis)"
   ]
  },
  {
   "cell_type": "markdown",
   "metadata": {},
   "source": [
    "##### The dates are in a common notation for `UTC` (Coordinated Universal Time) but this is a pain to work with. Let's fix things using the `pd.to_datetime` function in the `pandas` library. \n",
    "##### This function converts a column of date-like objects into `datetime64 format`, which is a datetime type that `pandas` uses for date and time manipulation. Normally, it would be worth keeping both date and time in a column called 'Date_Time', but with daily data there's no need."
   ]
  },
  {
   "cell_type": "code",
   "execution_count": null,
   "metadata": {},
   "outputs": [],
   "source": [
    "# The UTC format that our dates (times) are currently in:\n",
    "dataframe['dates'] = pd.to_datetime(dataframe['time'], format='%Y-%m-%dT%H:%M:%S.%fZ', utc=True)\n",
    "\n",
    "# Step1: convert to a more friendly format, add 'dates' as new column \n",
    "dataframe['dates'] = dataframe['dates'].dt.strftime('%Y-%m-%d %H:%M')\n",
    "\n",
    "# Step2: Remove the times in this case as they contain no real information\n",
    "dataframe['dates'] = pd.to_datetime(dataframe['dates'])\n",
    "\n",
    "# Step3: Drop the now unnecessary 'time' column\n",
    "dataframe = dataframe.drop(columns=['time'])\n",
    "\n",
    "# Display\n",
    "print(dataframe.head(2))"
   ]
  },
  {
   "cell_type": "code",
   "execution_count": null,
   "metadata": {},
   "outputs": [],
   "source": [
    "# Re-order your columns so date is still first\n",
    "dataframe = dataframe[['dates','analysed_sst']]\n",
    "# Display\n",
    "print(dataframe.head(2))"
   ]
  },
  {
   "cell_type": "markdown",
   "metadata": {},
   "source": [
    "#### NEARLY perfect, but temperatures are in `Kelvin`"
   ]
  },
  {
   "cell_type": "code",
   "execution_count": null,
   "metadata": {},
   "outputs": [],
   "source": [
    "# Make a new column in your dataframe with SST in Celsius(°C)\n",
    "dataframe['SST_Celsius'] = dataframe['analysed_sst'] - 273.15\n",
    "\n",
    "# Assign more helpful names to the columns:\n",
    "dataframe.columns = ['Dates', 'SST_Kelvin', 'SST_Celsius']\n",
    "\n",
    "# Display\n",
    "print(dataframe.head(5))"
   ]
  },
  {
   "cell_type": "markdown",
   "metadata": {},
   "source": [
    "#### Btw, it's now really easy to output this lovely new perfect data in a saved new CSV file of your own:"
   ]
  },
  {
   "cell_type": "code",
   "execution_count": null,
   "metadata": {},
   "outputs": [],
   "source": [
    "dataframe.to_csv('My_New_SST_Data.csv', index=False)"
   ]
  },
  {
   "cell_type": "markdown",
   "metadata": {},
   "source": [
    "### \n",
    "### Section3: Plot Timeseries of SST, including with Mean SST"
   ]
  },
  {
   "cell_type": "markdown",
   "metadata": {},
   "source": [
    "#### Let's make a timeseries of SST over time from the single pixel we selected on CMEMS"
   ]
  },
  {
   "cell_type": "code",
   "execution_count": null,
   "metadata": {},
   "outputs": [],
   "source": [
    "# How many unique years are in our time series\n",
    "num_years = dataframe['Dates'].dt.year.nunique()\n",
    "print(f\"There are {num_years} unique years in the time series.\")"
   ]
  },
  {
   "cell_type": "code",
   "execution_count": null,
   "metadata": {},
   "outputs": [],
   "source": [
    "# Figure 1: Plot your first timeseries!\n",
    "fig1, ax = plt.subplots(figsize = (16, 5), dpi = 250)\n",
    "\n",
    "# Set major locator to show every year and format the x-axis to only show years\n",
    "# When you have so many data points, this helps to ensure you can see the dates\n",
    "ax.xaxis.set_major_locator(YearLocator(1))\n",
    "date_form = DateFormatter('%Y')\n",
    "ax.xaxis.set_major_formatter(date_form)\n",
    "\n",
    "# Rotate the x-axis labels for even better readability:\n",
    "plt.setp(ax.get_xticklabels(), rotation=45, ha=\"right\")\n",
    "\n",
    "# Plot the data using 's' square markers in blue\n",
    "plt.plot(dataframe['Dates'], dataframe['SST_Celsius'], linestyle = '', marker='s', markersize=1, c='blue')\n",
    "\n",
    "# Set your x and y axis limits (personal preference)\n",
    "# ax.set_ylim([16, 25])\n",
    "ax.set_xlim([dataframe['Dates'].min(), dataframe['Dates'].max()])\n",
    "\n",
    "# Gridlines included\n",
    "ax.grid(True)\n",
    "\n",
    "# Add labels\n",
    "plt.xlabel('Time')\n",
    "plt.ylabel('Temp (°C)')\n",
    "\n",
    "# Show the plot\n",
    "plt.show()"
   ]
  },
  {
   "cell_type": "code",
   "execution_count": null,
   "metadata": {},
   "outputs": [],
   "source": [
    "# To save any of the Figures (change XX to fig1/ fig2/ fig3/ fig4 etc)\n",
    "# fig1.savefig('SST_Timeseries.png', bbox_inches='tight')"
   ]
  },
  {
   "cell_type": "code",
   "execution_count": null,
   "metadata": {},
   "outputs": [],
   "source": [
    "# We can calculate the mean (and other stats) for plotting with numpy (np) or pandas (pd)\n",
    "# Using Pandas:\n",
    "Mn = dataframe['SST_Celsius'].mean()\n",
    "\n",
    "# Print Mean SST:\n",
    "print ('Mean SST off South Fuerteventura over the', num_years, \n",
    "       'timeseries is ~', \"%.2f\" % Mn,'°C')                   #Report to 2 decimal places using [\"%.2f\" %]"
   ]
  },
  {
   "cell_type": "code",
   "execution_count": null,
   "metadata": {},
   "outputs": [],
   "source": [
    "# Figure 2: Plotting as above, but let's add a line, the mean, and some labels\n",
    "fig2, ax = plt.subplots(figsize = (16, 5), dpi = 250)\n",
    "\n",
    "# Set major locator to show every year and format the x-axis to only show years\n",
    "# When you have so many data points, this helps to ensure you can see the dates\n",
    "ax.xaxis.set_major_locator(YearLocator(1))\n",
    "date_form = DateFormatter('%Y')\n",
    "ax.xaxis.set_major_formatter(date_form)\n",
    "\n",
    "# Rotate the x-axis labels for even better readability:\n",
    "plt.setp(ax.get_xticklabels(), rotation=45, ha=\"right\")\n",
    "\n",
    "# Plot the data using a line in a darker blue, and add label\n",
    "plt.plot(dataframe['Dates'], dataframe['SST_Celsius'], linestyle='-',linewidth=1, c='mediumblue', label='Sea Surface Temperature')\n",
    "\n",
    "# Set your x and y axis limits to remove spaces (your preference)\n",
    "ax.set_ylim([17, 25])\n",
    "ax.set_xlim([dataframe['Dates'].min(), dataframe['Dates'].max()])\n",
    "\n",
    "# Plot the mean line\n",
    "plt.plot([dataframe['Dates'].min(), dataframe['Dates'].max()], \n",
    "         [Mn, Mn], \n",
    "         color = 'r', \n",
    "         linestyle = '--', \n",
    "         linewidth = 2, \n",
    "         label = f'Mean SST over ~{num_years} Years')\n",
    "\n",
    "# In this plot, we will choose to NOT plot gridlines:\n",
    "ax.grid(False)\n",
    "\n",
    "# Add labels\n",
    "plt.xlabel('Time')\n",
    "plt.ylabel('Temp (°C)')\n",
    "plt.legend()\n",
    "\n",
    "# Show the plot\n",
    "plt.show()"
   ]
  },
  {
   "cell_type": "code",
   "execution_count": null,
   "metadata": {},
   "outputs": [],
   "source": [
    "# To save any of the Figures (change XX to fig1/ fig2/ fig3/ fig4 etc)\n",
    "# fig2.savefig('SST_Timeseries_plusMean.png', bbox_inches='tight')"
   ]
  },
  {
   "cell_type": "markdown",
   "metadata": {},
   "source": [
    "###\n",
    "### Section4: Timeseries of SST with the Addition of a Trendline\n",
    "#### `Linear Regression`:"
   ]
  },
  {
   "cell_type": "code",
   "execution_count": null,
   "metadata": {},
   "outputs": [],
   "source": [
    "# Data Prep for Linear regression:\n",
    "x_date = dataframe['Dates']           # Your actual dates\n",
    "x_num1 = dates.date2num(x_date)   # Convert dates to numerical format\n",
    "SST = dataframe['SST_Celsius']     # Your actual SST data\n",
    "\n",
    "# Perform linear regression\n",
    "slope, intercept, r_value, p_value, std_err = linregress(x_num1, SST)\n",
    "\n",
    "# Calculate the trendline\n",
    "trendline = slope * x_num1 + intercept"
   ]
  },
  {
   "cell_type": "code",
   "execution_count": null,
   "metadata": {},
   "outputs": [],
   "source": [
    "print('Slope: change in SST =', \"%.10f\" % slope,'°C per day')"
   ]
  },
  {
   "cell_type": "code",
   "execution_count": null,
   "metadata": {},
   "outputs": [],
   "source": [
    "print('Number of unique days in our timeseries =', len(dataframe))"
   ]
  },
  {
   "cell_type": "code",
   "execution_count": null,
   "metadata": {},
   "outputs": [],
   "source": [
    "# Plotting\n",
    "fig3, ax = plt.subplots(figsize=(16, 5), dpi=250)\n",
    "\n",
    "# Set x-axis to show years only\n",
    "ax.xaxis.set_major_locator(YearLocator(1))\n",
    "date_form = DateFormatter('%Y')\n",
    "ax.xaxis.set_major_formatter(date_form)\n",
    "\n",
    "# Rotate the x-axis labels for even better readability:\n",
    "plt.setp(ax.get_xticklabels(), rotation=45, ha=\"right\")\n",
    "\n",
    "# Plot the original SST data\n",
    "ax.plot(x_date, SST, 's', markersize=1, color='navy')\n",
    "# Plot the trendline\n",
    "ax.plot(x_date, trendline, color='r', label=f'y = {slope:.6f}x + {intercept:.2f}')\n",
    "\n",
    "# Set your x and y axis limit (preference)\n",
    "ax.set_ylim([SST.min(), SST.max()])\n",
    "ax.set_xlim([x_date.min(), x_date.max()])\n",
    "\n",
    "# Here, we will plot gridlines using a light grey (silver) dotted line (:)\n",
    "ax.grid(True, color='silver', linestyle=':', linewidth=1)\n",
    "\n",
    "# Add title, labels, and legend\n",
    "plt.title(f'Trend in Fuerteventura SST Over ~{num_years} Years', fontweight='bold', color='dimgrey')\n",
    "plt.xlabel('Time')\n",
    "plt.ylabel('Temp (°C)')\n",
    "plt.legend()\n",
    "\n",
    "# Show the plot\n",
    "plt.show()"
   ]
  },
  {
   "cell_type": "code",
   "execution_count": null,
   "metadata": {},
   "outputs": [],
   "source": [
    "# To save any of the Figures (change XX to fig1/ fig2/ fig3/ fig4 etc)\n",
    "# fig3.savefig('SST_Timeseries_plusRegression.png', bbox_inches='tight')"
   ]
  },
  {
   "cell_type": "markdown",
   "metadata": {},
   "source": [
    "----------------------------------------------------------------------------------------------------------------------\n",
    "----------------------------------------------------------------------------------------------------------------------\n",
    "----------------------------------------------------------------------------------------------------------------------"
   ]
  },
  {
   "cell_type": "markdown",
   "metadata": {},
   "source": [
    "\n",
    "### Section5: Statistical Testing for Significance\n",
    "#### Is the change in SST over time significant? We can assess this this using the `Mann-Kendall` test:"
   ]
  },
  {
   "cell_type": "markdown",
   "metadata": {},
   "source": [
    "#### The `Mann-Kendall` Trend Test is used to determine whether or not a trend exists in timeseries data. It is a `non-parametric` test, meaning there is no underlying assumption made about `normality`.\n",
    "\n",
    "mk.original_test(yourdataframe)\n",
    "OUTPUT-\n",
    " trend: This tells the trend-increasing, decreasing, or no trend.\n",
    " h: True if the trend is present. False if no trend is present.\n",
    " p: The p-value of the test.\n",
    " z: The normalized test statistic.\n",
    " Tau: Kendall Tau.\n",
    " s: Mann-Kendal’s score\n",
    " var_s: Variance S\n",
    " slope: Theil-Sen estimator/slope\n",
    " intercept: Intercept of Kendall-Theil Robust Line\n",
    "\n",
    "If you are worried about autocorrelation in your data, use a modified Mann Kendall test instead, e.g.:\n",
    "mk.hamed_rao_modification_test(yourdataframe)"
   ]
  },
  {
   "cell_type": "code",
   "execution_count": null,
   "metadata": {},
   "outputs": [],
   "source": [
    "# Is this trend in SST significant?\n",
    "trend1 = mk.original_test(dataframe['SST_Celsius'])\n",
    "print(\"SST Trend is\",trend1[0], \", P-value =\", (\"%.3f\" % trend1[2]))"
   ]
  },
  {
   "cell_type": "markdown",
   "metadata": {},
   "source": [
    "----------------------------------------------------------------------------------------------------------------------\n",
    "----------------------------------------------------------------------------------------------------------------------\n",
    "----------------------------------------------------------------------------------------------------------------------\n",
    "### Extra steps for data analysis"
   ]
  },
  {
   "cell_type": "markdown",
   "metadata": {},
   "source": [
    "#### Which was the hottest day and which was the coldest day in the timeseries?"
   ]
  },
  {
   "cell_type": "code",
   "execution_count": null,
   "metadata": {},
   "outputs": [],
   "source": [
    "# Calculating max and min SST values, and determining where they sit in the timeseries using pandas:\n",
    "max_sst_value = dataframe['SST_Celsius'].max()\n",
    "min_sst_value = dataframe['SST_Celsius'].min()\n",
    "\n",
    "# Finding the index of the max and min SST values\n",
    "max_sst_index = dataframe['SST_Celsius'].idxmax()\n",
    "min_sst_index = dataframe['SST_Celsius'].idxmin()\n",
    "\n",
    "# Getting the dates corresponding to the max and min SST values and formatting them without time\n",
    "day_max = dataframe['Dates'][max_sst_index].strftime('%Y-%m-%d')\n",
    "day_min = dataframe['Dates'][min_sst_index].strftime('%Y-%m-%d')\n",
    "\n",
    "# Printing the results\n",
    "print(f'The mean SST in my timeseries is {Mn:.2f}°C, with max temp [{max_sst_value:.2f}°C at index {max_sst_index}, {day_max}] '\n",
    "      f'and min temp [{min_sst_value:.2f}°C at index {min_sst_index}, {day_min}].')"
   ]
  },
  {
   "cell_type": "markdown",
   "metadata": {},
   "source": [
    "#### Everyone loves a good boxplot, right?"
   ]
  },
  {
   "cell_type": "code",
   "execution_count": null,
   "metadata": {},
   "outputs": [],
   "source": [
    "fig4, ax = plt.subplots(figsize=(4, 5))\n",
    "\n",
    "# Set the overall style\n",
    "sns.set_style('whitegrid')\n",
    "\n",
    "# Boxplot with customized palette and width\n",
    "ax = sns.boxplot(y=dataframe['SST_Celsius'], width=0.25, color='lightseagreen', flierprops=dict(marker='o', markersize=5))\n",
    "\n",
    "# Set y-limits\n",
    "ax.set_ylim([0, 30])\n",
    "\n",
    "# Add labels for x and y axes, suppressing output with semicolons\n",
    "ax.set_xlabel(f'Fuerteventura SST distribution over ~{num_years} years', fontsize=10);\n",
    "ax.set_ylabel('Sea Surface Temperature (°C)', fontsize=10);\n",
    "\n",
    "# Customize the gridlines to be dotted on the y-axis only\n",
    "ax.grid(True, linestyle=':', linewidth=1, color='gray', axis='y')\n",
    "\n",
    "# Show the plot\n",
    "plt.show()\n",
    "\n",
    "# Save the figure using the figure handle (fig1)\n",
    "# fig4.savefig('SST_dist_boxplot.png', dpi=300, bbox_inches='tight')"
   ]
  },
  {
   "cell_type": "markdown",
   "metadata": {},
   "source": [
    "<div class=\"alert alert-info\" role=\"alert\">\n",
    "\n",
    "Your final task for this practical session is to change the `y-axis` limits to a minimum of 15°C and a maximum of 26°C, pick a new colour to replace `lightseagreen`, save the boxplot figure as a `.png`, and upload to the DLE for 5 marks.\n",
    "\n",
    "</div>"
   ]
  }
 ],
 "metadata": {
  "colab": {
   "name": "CMEMS Timeseries tutorial.ipynb",
   "provenance": []
  },
  "kernelspec": {
   "display_name": "Python 3 (ipykernel)",
   "language": "python",
   "name": "python3"
  },
  "language_info": {
   "codemirror_mode": {
    "name": "ipython",
    "version": 3
   },
   "file_extension": ".py",
   "mimetype": "text/x-python",
   "name": "python",
   "nbconvert_exporter": "python",
   "pygments_lexer": "ipython3",
   "version": "3.11.8"
  }
 },
 "nbformat": 4,
 "nbformat_minor": 4
}
